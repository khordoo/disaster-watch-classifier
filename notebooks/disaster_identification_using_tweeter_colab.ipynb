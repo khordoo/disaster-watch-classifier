{
  "nbformat": 4,
  "nbformat_minor": 0,
  "metadata": {
    "colab": {
      "name": "disaster_identification_using_tweeter_remove_unrelated.ipynb",
      "version": "0.3.2",
      "provenance": [],
      "collapsed_sections": []
    },
    "language_info": {
      "codemirror_mode": {
        "name": "ipython",
        "version": 3
      },
      "file_extension": ".py",
      "mimetype": "text/x-python",
      "name": "python",
      "nbconvert_exporter": "python",
      "pygments_lexer": "ipython3",
      "version": "3.6.7"
    },
    "kernelspec": {
      "name": "python3",
      "display_name": "Python 3"
    },
    "accelerator": "GPU"
  },
  "cells": [
    {
      "cell_type": "markdown",
      "metadata": {
        "id": "OmgwuQUFyyBe",
        "colab_type": "text"
      },
      "source": [
        "# Identifying and categorizing the disaster-related tweets\n",
        "Semantic, temporal and spatial context , using natural language processing ,Deep Learning and spatial analysis\n",
        "\n",
        "\n",
        "## 1. Import Required Packages"
      ]
    },
    {
      "cell_type": "code",
      "metadata": {
        "id": "WdD9XAs2yyBg",
        "colab_type": "code",
        "colab": {}
      },
      "source": [
        "%%capture\n",
        "%matplotlib inline\n",
        "\n",
        "import os\n",
        "import numpy as np\n",
        "import pandas as pd\n",
        "import spacy\n",
        "import matplotlib.pyplot as plt\n",
        "!pip3 install tensorflow-gpu==2.0.0-alpha0\n",
        "import tensorflow as tf\n",
        "from sklearn.base import TransformerMixin ,BaseEstimator\n",
        "from sklearn.pipeline import Pipeline\n",
        "from sklearn.preprocessing import LabelEncoder\n",
        "from sklearn.model_selection import train_test_split\n",
        "from tensorflow.keras.utils import to_categorical\n",
        "from tensorflow.keras.models import Sequential ,model_from_json\n",
        "from tensorflow.keras.layers import Embedding,Dense,Dropout ,GlobalMaxPool1D\n",
        "from IPython.display import clear_output\n",
        "from google.colab import  files\n",
        "from tensorflow.keras.wrappers.scikit_learn import KerasClassifier\n",
        "from sklearn.model_selection import RandomizedSearchCV"
      ],
      "execution_count": 0,
      "outputs": []
    },
    {
      "cell_type": "code",
      "metadata": {
        "id": "Nudx66pazEmy",
        "colab_type": "code",
        "colab": {}
      },
      "source": [
        "if not os.path.isfile('combined.csv'):\n",
        "   dataset=files.upload()"
      ],
      "execution_count": 0,
      "outputs": []
    },
    {
      "cell_type": "markdown",
      "metadata": {
        "id": "CeelkjKwyyBj",
        "colab_type": "text"
      },
      "source": [
        "## 2. Data Loading\n",
        "\n"
      ]
    },
    {
      "cell_type": "code",
      "metadata": {
        "id": "Z3etvRU5yyBk",
        "colab_type": "code",
        "colab": {}
      },
      "source": [
        "\n",
        "class DatasetExtractor(BaseEstimator,TransformerMixin):\n",
        "    \"\"\"Extractor class that loads multiple Tweeter files in csv format.\"\"\"\n",
        "    \n",
        "    COMBINDED_DATASET='combined.csv'\n",
        "    \n",
        "    def transform(self,X,y=None):\n",
        "        return self.hot_load()\n",
        "    \n",
        "    def hot_load(self):\n",
        "        \"\"\"Loads the pre-combined file if exists otherwise load all the files\"\"\"\n",
        "        combined_file_path='combined.csv'\n",
        "        if os.path.isfile(combined_file_path):\n",
        "            print('File Exists.Reloaded.')\n",
        "            return pd.read_csv(combined_file_path, index_col=0)\n",
        "        print('Loading Files..')\n",
        "        combined_dataset=load_data()\n",
        "        combined_dataset.to_csv(combined_file_path)\n",
        "        return combined_dataset\n",
        "    \n",
        "    def load_data(self):\n",
        "        \"\"\"Loads multiple disaster related tweet file and returns a Single Pandas data frame\"\"\"    \n",
        "        combined_dataset=pd.DataFrame()\n",
        "        for file_name in os.listdir(path=DATA_DIRECTORY):\n",
        "            category=extract_category_name(file_name)\n",
        "            df=pd.read_csv(f'{file_name}')\n",
        "            df['category']= category    \n",
        "            combined_dataset=combined_dataset.append(df,ignore_index = True)\n",
        "        return  combined_dataset  \n",
        "    \n",
        "    def extract_category_name(self,file_name):\n",
        "        \"\"\"Helper method that extracts the Disaster Category from the file name\"\"\"\n",
        "        category=file_name.split('.')[0]\n",
        "        if '_' in category:\n",
        "            category=category.split('_')[0]\n",
        "        return category "
      ],
      "execution_count": 0,
      "outputs": []
    },
    {
      "cell_type": "markdown",
      "metadata": {
        "id": "rDVupu6qyyBm",
        "colab_type": "text"
      },
      "source": [
        "## 3. Data Cleaning"
      ]
    },
    {
      "cell_type": "code",
      "metadata": {
        "id": "jwhMKFksyyBn",
        "colab_type": "code",
        "colab": {}
      },
      "source": [
        "class DatasetCleaner(BaseEstimator,TransformerMixin):\n",
        "    \"\"\"Removes Redundent features and rows with missing values\"\"\"\n",
        "    def transform(self,X,y=None):\n",
        "        columns=X.columns.tolist()\n",
        "        X.columns=[column.strip() for column in columns]\n",
        "        X=X.drop('tweet id',axis=1)\n",
        "        X=X.dropna()\n",
        "        X['tweet']=X['tweet'].str.replace('@', '')\n",
        "        X['tweet']=X['tweet'].str.replace('#', '')\n",
        "        X['tweet']=X['tweet'].str.replace('http\\S+', '',regex=True)\n",
        "        X['tweet']=X['tweet'].str.strip()\n",
        "        X['tweet']=X['tweet'].str.lower()        \n",
        "        return X"
      ],
      "execution_count": 0,
      "outputs": []
    },
    {
      "cell_type": "code",
      "metadata": {
        "id": "GTT8FZSuJ67c",
        "colab_type": "code",
        "colab": {}
      },
      "source": [
        "class NamedEntityRemover(BaseEstimator,TransformerMixin):\n",
        "  \"\"\"Removes Named Entities from the data.\n",
        "     This prevents associating the places with disasters.\n",
        "  \"\"\"\n",
        "  def __init__(self):\n",
        "    self.nlp = spacy.load('en')\n",
        "    \n",
        "  def transform(self,X,y=None):\n",
        "      nlp = spacy.load('en')\n",
        "      X['tweet']=X['tweet'].apply(lambda x : self._remove_named_entities(x))\n",
        "      return X\n",
        "  def _remove_named_entities(self,x):\n",
        "      x=x.title()\n",
        "      doc = nlp(x)\n",
        "      for ent in doc.ents:\n",
        "        x=x.replace(str(ent[0]) ,'')\n",
        "      return x.lower()\n",
        "# df =pd.DataFrame({'tweet':['this is Iran canada and france', 'alos ther is for germany']})\n",
        "# NamedEntityRemover().transform(df)"
      ],
      "execution_count": 0,
      "outputs": []
    },
    {
      "cell_type": "code",
      "metadata": {
        "id": "R4BqQgxsyyBp",
        "colab_type": "code",
        "colab": {}
      },
      "source": [
        "class DistributionValidSampler(BaseEstimator,TransformerMixin):\n",
        "    \"\"\"Samples the (related and random ) tweets with equal proportion\"\"\"\n",
        "    def __init__(self,unrelated_size=None ,ignore_unrelated_proportion=True):\n",
        "        self._unrelated_size=unrelated_size\n",
        "        self._ignore_unrelated_proportion=ignore_unrelated_proportion\n",
        "\n",
        "        \n",
        "    def transform(self,X,y=None):\n",
        "        #Shuffle tweets\n",
        "        X_=X.sample(frac=1).reset_index(drop=True)\n",
        "        \n",
        "        X_=self._label_categories(X_)  \n",
        "        related,unrelated =self._equal_split(X_)\n",
        "        X_=self._merge(related,unrelated)\n",
        "        X_=X_.drop('category',axis=1)       \n",
        "        return X_\n",
        "    \n",
        "    def _label_categories(self,X):\n",
        "        \"\"\"Assings the category name to on-topic tweets and unrelated to off-topic tweets in \n",
        "         each category\n",
        "        \"\"\"\n",
        "        \n",
        "        if self._ignore_unrelated_proportion:\n",
        "            X['label']=X.apply(lambda row: row['category'] if 'on-topic' in row['label'] else 'unrelated',axis=1 ) \n",
        "        else:\n",
        "            X['label']=X.apply(lambda row: row['category'] if 'on-topic' in row['label'] else 'unrelated_'+row['category'],axis=1 )  \n",
        "        return X\n",
        "    \n",
        "    def _equal_split(self,X):\n",
        "        \"\"\"Splits the dataseta into related and unrelated tweets.\n",
        "          This ensures that the number of unrelated tweets are not too high and \n",
        "          is in reasonable range.\n",
        "        \"\"\"\n",
        "        related=X[X['label'].str.contains('unrelated')==False]\n",
        "        unrelated=X[X['label'].str.contains('unrelated')]\n",
        "        ave_tweets=self._average_tweet_per_category(X)\n",
        "        unrelated=self._slice(unrelated,size=self._unrelated_size ,ave_size=ave_tweets)\n",
        "        return related,unrelated\n",
        "    \n",
        "    def _merge(self,X1,X2):\n",
        "        \"\"\"Merges the dataframes toghether\"\"\"\n",
        "        X=pd.DataFrame()\n",
        "        X=X.append(X1)\n",
        "        X=X.append(X2)\n",
        "        return X\n",
        "    \n",
        "    def _slice(self,X, size ,ave_size):\n",
        "        \"\"\"Extracts a subset of rows from a dataframe\"\"\"\n",
        "        if size is None:\n",
        "            size =ave_size\n",
        "        if size < X.shape[0]:\n",
        "            return X[:size]\n",
        "        return X    \n",
        "    \n",
        "    def _average_tweet_per_category(self,X):\n",
        "        \"\"\"Calculate the average number of tweets across all tweet categories\"\"\"\n",
        "        category_values=pd.DataFrame(X['label'].value_counts())\n",
        "        category_values=category_values.drop('unrelated',axis=0)\n",
        "        return int(category_values['label'].mean())\n",
        "        "
      ],
      "execution_count": 0,
      "outputs": []
    },
    {
      "cell_type": "markdown",
      "metadata": {
        "id": "MOeSsPzbyyBr",
        "colab_type": "text"
      },
      "source": [
        "### 4. Data Transformation"
      ]
    },
    {
      "cell_type": "code",
      "metadata": {
        "id": "xzsGvjr4yyBs",
        "colab_type": "code",
        "colab": {}
      },
      "source": [
        "class TextTokenizer(BaseEstimator,TransformerMixin):\n",
        "    \n",
        "    def __init__(self,pad_sequences,num_words=10000,max_length=100,max_pad_length=100 ):\n",
        "        self._num_words=num_words\n",
        "        self.max_length=max_length\n",
        "        self._tokenizer=None\n",
        "        self._pad_sequences=pad_sequences\n",
        "        self._max_pad_length=max_pad_length\n",
        "        self.vocab_size=None\n",
        "        self.tokenizer=None\n",
        "        \n",
        "    def transform(self,X,y=None):\n",
        "        self.tokenizer,self.vocab_size=self._get_tokenizer(X['tweet'])\n",
        "        X['tweet_encoded']=self.tokenizer.texts_to_sequences(X['tweet'])\n",
        "        X['tweet_encoded']= X['tweet_encoded'].apply(lambda x: self._pad_sequences([x],maxlen=self._max_pad_length ,padding='post')[0])\n",
        "        \n",
        "        return X\n",
        "    def _get_tokenizer(self,X):\n",
        "        tokenizer=tf.keras.preprocessing.text.Tokenizer(num_words=self._num_words)\n",
        "        tokenizer.fit_on_texts(X)\n",
        "        vocab_size=len(tokenizer.word_index)+1\n",
        "        return tokenizer,vocab_size"
      ],
      "execution_count": 0,
      "outputs": []
    },
    {
      "cell_type": "code",
      "metadata": {
        "id": "HyOi2VZryyBu",
        "colab_type": "code",
        "colab": {}
      },
      "source": [
        "class LabelOneHotEncoder(BaseEstimator,TransformerMixin):\n",
        "    def __init__(self):\n",
        "        self.label_encoder=None\n",
        "        self.one_hot_encoder=None\n",
        "        \n",
        "    def transform(self,X,y=None):\n",
        "        self.label_encoder=LabelEncoder().fit(X['label'])\n",
        "        self.one_hot_encoder=to_categorical\n",
        "        num_classes=len(set(X['label']))\n",
        "        X['label_encoded']= self.label_encoder.transform(X['label'].values)\n",
        "        X['label_one_hot']= X['label_encoded'].apply(lambda x: self.one_hot_encoder([x],num_classes=num_classes)[0])   \n",
        "        \n",
        "        return X\n",
        "      "
      ],
      "execution_count": 0,
      "outputs": []
    },
    {
      "cell_type": "code",
      "metadata": {
        "id": "6QygVpjcyyBx",
        "colab_type": "code",
        "colab": {}
      },
      "source": [
        "class PassThroughTransformer(BaseEstimator,TransformerMixin):\n",
        "    \"\"\"Pass Through Trasformer to by pass the sklean pipleline limitation \"\"\"\n",
        "    def transform(self,X,y=None):\n",
        "        return X\n",
        "    def fit(self,X,y=None):\n",
        "        return X"
      ],
      "execution_count": 0,
      "outputs": []
    },
    {
      "cell_type": "code",
      "metadata": {
        "scrolled": true,
        "id": "S1mAD2ptyyB0",
        "colab_type": "code",
        "outputId": "b338b2c2-0664-4d4d-cf98-d4c80c38f773",
        "colab": {
          "base_uri": "https://localhost:8080/",
          "height": 221
        }
      },
      "source": [
        "pad_sequence=tf.keras.preprocessing.sequence.pad_sequences\n",
        "\n",
        "\n",
        "pipeline =Pipeline(steps=[\n",
        "    ('extractor',DatasetExtractor()),\n",
        "    ('cleaner',DatasetCleaner()),\n",
        "#     ('ne-remover',NamedEntityRemover()),\n",
        "    ('distribution-validator',DistributionValidSampler(unrelated_size=None ,ignore_unrelated_proportion=True)),\n",
        "    ('tokenizer',TextTokenizer(pad_sequence)),\n",
        "    ('one-hot-encoder',LabelOneHotEncoder()),\n",
        "    ('pass-through',PassThroughTransformer()),\n",
        "    \n",
        "])\n",
        "cleaned=pipeline.transform(None)\n",
        "cleaned.head()"
      ],
      "execution_count": 13,
      "outputs": [
        {
          "output_type": "stream",
          "text": [
            "File Exists.Reloaded.\n"
          ],
          "name": "stdout"
        },
        {
          "output_type": "execute_result",
          "data": {
            "text/html": [
              "<div>\n",
              "<style scoped>\n",
              "    .dataframe tbody tr th:only-of-type {\n",
              "        vertical-align: middle;\n",
              "    }\n",
              "\n",
              "    .dataframe tbody tr th {\n",
              "        vertical-align: top;\n",
              "    }\n",
              "\n",
              "    .dataframe thead th {\n",
              "        text-align: right;\n",
              "    }\n",
              "</style>\n",
              "<table border=\"1\" class=\"dataframe\">\n",
              "  <thead>\n",
              "    <tr style=\"text-align: right;\">\n",
              "      <th></th>\n",
              "      <th>tweet</th>\n",
              "      <th>label</th>\n",
              "      <th>tweet_encoded</th>\n",
              "      <th>label_encoded</th>\n",
              "      <th>label_one_hot</th>\n",
              "    </tr>\n",
              "  </thead>\n",
              "  <tbody>\n",
              "    <tr>\n",
              "      <th>0</th>\n",
              "      <td>rt allybrooke: so sorry for the explosion in w...</td>\n",
              "      <td>explosion</td>\n",
              "      <td>[2, 4659, 42, 749, 8, 1, 14, 3, 107, 19, 20, 1...</td>\n",
              "      <td>2</td>\n",
              "      <td>[0.0, 0.0, 1.0, 0.0, 0.0, 0.0, 0.0]</td>\n",
              "    </tr>\n",
              "    <tr>\n",
              "      <th>2</th>\n",
              "      <td>.thinkprogress: tea party congressman using bo...</td>\n",
              "      <td>bombing</td>\n",
              "      <td>[2472, 2347, 705, 9209, 1250, 149, 4, 7811, 82...</td>\n",
              "      <td>0</td>\n",
              "      <td>[1.0, 0.0, 0.0, 0.0, 0.0, 0.0, 0.0]</td>\n",
              "    </tr>\n",
              "    <tr>\n",
              "      <th>7</th>\n",
              "      <td>rt youranonnews: breaking: west fertilizer pla...</td>\n",
              "      <td>explosion</td>\n",
              "      <td>[2, 348, 117, 46, 48, 38, 47, 5030, 8, 3514, 4...</td>\n",
              "      <td>2</td>\n",
              "      <td>[0.0, 0.0, 1.0, 0.0, 0.0, 0.0, 0.0]</td>\n",
              "    </tr>\n",
              "    <tr>\n",
              "      <th>9</th>\n",
              "      <td>the bruins game better not get cancelled. we a...</td>\n",
              "      <td>bombing</td>\n",
              "      <td>[1, 1693, 613, 443, 65, 93, 899, 41, 27, 124, ...</td>\n",
              "      <td>0</td>\n",
              "      <td>[1.0, 0.0, 0.0, 0.0, 0.0, 0.0, 0.0]</td>\n",
              "    </tr>\n",
              "    <tr>\n",
              "      <th>10</th>\n",
              "      <td>have seen some young people in reddeer tweetin...</td>\n",
              "      <td>floods</td>\n",
              "      <td>[39, 432, 141, 1276, 31, 3, 5448, 1380, 474, 5...</td>\n",
              "      <td>3</td>\n",
              "      <td>[0.0, 0.0, 0.0, 1.0, 0.0, 0.0, 0.0]</td>\n",
              "    </tr>\n",
              "  </tbody>\n",
              "</table>\n",
              "</div>"
            ],
            "text/plain": [
              "                                                tweet      label  \\\n",
              "0   rt allybrooke: so sorry for the explosion in w...  explosion   \n",
              "2   .thinkprogress: tea party congressman using bo...    bombing   \n",
              "7   rt youranonnews: breaking: west fertilizer pla...  explosion   \n",
              "9   the bruins game better not get cancelled. we a...    bombing   \n",
              "10  have seen some young people in reddeer tweetin...     floods   \n",
              "\n",
              "                                        tweet_encoded  label_encoded  \\\n",
              "0   [2, 4659, 42, 749, 8, 1, 14, 3, 107, 19, 20, 1...              2   \n",
              "2   [2472, 2347, 705, 9209, 1250, 149, 4, 7811, 82...              0   \n",
              "7   [2, 348, 117, 46, 48, 38, 47, 5030, 8, 3514, 4...              2   \n",
              "9   [1, 1693, 613, 443, 65, 93, 899, 41, 27, 124, ...              0   \n",
              "10  [39, 432, 141, 1276, 31, 3, 5448, 1380, 474, 5...              3   \n",
              "\n",
              "                          label_one_hot  \n",
              "0   [0.0, 0.0, 1.0, 0.0, 0.0, 0.0, 0.0]  \n",
              "2   [1.0, 0.0, 0.0, 0.0, 0.0, 0.0, 0.0]  \n",
              "7   [0.0, 0.0, 1.0, 0.0, 0.0, 0.0, 0.0]  \n",
              "9   [1.0, 0.0, 0.0, 0.0, 0.0, 0.0, 0.0]  \n",
              "10  [0.0, 0.0, 0.0, 1.0, 0.0, 0.0, 0.0]  "
            ]
          },
          "metadata": {
            "tags": []
          },
          "execution_count": 13
        }
      ]
    },
    {
      "cell_type": "markdown",
      "metadata": {
        "id": "av3JRhv_yyB4",
        "colab_type": "text"
      },
      "source": [
        "## 5. Train Validation set"
      ]
    },
    {
      "cell_type": "code",
      "metadata": {
        "id": "qN8o5kIayyB5",
        "colab_type": "code",
        "colab": {}
      },
      "source": [
        "X_train,X_test,y_train,y_test =train_test_split(cleaned['tweet_encoded'],cleaned['label_one_hot'],test_size=0.3,stratify=cleaned['label_encoded'])\n",
        "X_train=np.array(X_train.values.tolist())\n",
        "X_test=np.array(X_test.values.tolist())\n",
        "y_train=np.array(y_train.values.tolist())\n",
        "y_test=np.array(y_test.values.tolist())"
      ],
      "execution_count": 0,
      "outputs": []
    },
    {
      "cell_type": "markdown",
      "metadata": {
        "id": "V_IrvqFGyyB7",
        "colab_type": "text"
      },
      "source": [
        "## 6. Modeling "
      ]
    },
    {
      "cell_type": "code",
      "metadata": {
        "id": "0-k5VW8byyB8",
        "colab_type": "code",
        "colab": {}
      },
      "source": [
        "class PlotLosses(tf.keras.callbacks.Callback):\n",
        "    def on_train_begin(self, logs={}):\n",
        "        self.i = 0\n",
        "        self.x = []\n",
        "        self.losses = []\n",
        "        self.val_losses = []\n",
        "        \n",
        "        self.fig = plt.figure()\n",
        "        \n",
        "        self.logs = []\n",
        "\n",
        "    def on_epoch_end(self, epoch, logs={}):\n",
        "        \n",
        "        self.logs.append(logs)\n",
        "        self.x.append(self.i)\n",
        "        self.losses.append(logs.get('loss'))\n",
        "        self.val_losses.append(logs.get('val_loss'))\n",
        "        self.i += 1\n",
        "        \n",
        "        clear_output(wait=True)\n",
        "        plt.plot(self.x, self.losses, label=\"loss\")\n",
        "        plt.plot(self.x, self.val_losses, label=\"val_loss\")\n",
        "        plt.legend()\n",
        "#         print('Loss=',logs.get('loss'),'val_loss=',logs.get('val_loss'),'acc=',logs.get('acc'),'val_acc=',logs.get('val_acc'))\n",
        "        plt.show();\n",
        "plot_losses = PlotLosses() \n",
        "\n",
        "def save_model(model,save_name):\n",
        "    with open(save_name,'w+') as f:\n",
        "        f.write(model.to_json())\n",
        "    model.save_weights(save_name+'.h5') "
      ],
      "execution_count": 0,
      "outputs": []
    },
    {
      "cell_type": "code",
      "metadata": {
        "id": "Jcehm9otyyB_",
        "colab_type": "code",
        "outputId": "622a6d93-09ce-44ff-fcac-76d9cf40a54f",
        "colab": {
          "base_uri": "https://localhost:8080/",
          "height": 357
        }
      },
      "source": [
        "tokenizer=pipeline.named_steps['tokenizer']\n",
        "max_length=tokenizer.max_length\n",
        "vocab_size=tokenizer.vocab_size\n",
        "embeding_dim=50\n",
        "num_classes=y_train[0].shape[0]\n",
        "model=Sequential()\n",
        "model.add(Embedding(input_dim=vocab_size,output_dim=embeding_dim,input_length=max_length))\n",
        "model.add(GlobalMaxPool1D())\n",
        "model.add(Dropout(0.2))\n",
        "model.add(Dense(10,activation='relu'))\n",
        "model.add(Dropout(0.2))\n",
        "model.add(Dense(num_classes,activation='softmax'))\n",
        "model.compile(optimizer='adam',loss='categorical_crossentropy',metrics=['accuracy'] )\n",
        "model.summary()"
      ],
      "execution_count": 16,
      "outputs": [
        {
          "output_type": "stream",
          "text": [
            "Model: \"sequential\"\n",
            "_________________________________________________________________\n",
            "Layer (type)                 Output Shape              Param #   \n",
            "=================================================================\n",
            "embedding (Embedding)        (None, 100, 50)           2295550   \n",
            "_________________________________________________________________\n",
            "global_max_pooling1d (Global (None, 50)                0         \n",
            "_________________________________________________________________\n",
            "dropout (Dropout)            (None, 50)                0         \n",
            "_________________________________________________________________\n",
            "dense (Dense)                (None, 10)                510       \n",
            "_________________________________________________________________\n",
            "dropout_1 (Dropout)          (None, 10)                0         \n",
            "_________________________________________________________________\n",
            "dense_1 (Dense)              (None, 7)                 77        \n",
            "=================================================================\n",
            "Total params: 2,296,137\n",
            "Trainable params: 2,296,137\n",
            "Non-trainable params: 0\n",
            "_________________________________________________________________\n"
          ],
          "name": "stdout"
        }
      ]
    },
    {
      "cell_type": "markdown",
      "metadata": {
        "id": "QPdk4nYtyyCC",
        "colab_type": "text"
      },
      "source": [
        "## 7. Training "
      ]
    },
    {
      "cell_type": "code",
      "metadata": {
        "scrolled": true,
        "id": "VCSQAjDayyCD",
        "colab_type": "code",
        "outputId": "385cc2e6-6f5e-4b1a-88e7-c0b3f42e0c78",
        "colab": {
          "base_uri": "https://localhost:8080/",
          "height": 269
        }
      },
      "source": [
        "model.fit(X_train,y_train,epochs=4,batch_size=10,verbose=0,validation_split=0.2,callbacks=[plot_losses])\n",
        "save_model(model,'model')"
      ],
      "execution_count": 18,
      "outputs": [
        {
          "output_type": "display_data",
          "data": {
            "image/png": "[encoded data removed]",
            "text/plain": [
              "<Figure size 432x288 with 1 Axes>"
            ]
          },
          "metadata": {
            "tags": []
          }
        }
      ]
    },
    {
      "cell_type": "markdown",
      "metadata": {
        "id": "cYyIeO4ayyCI",
        "colab_type": "text"
      },
      "source": [
        "## 8. Evaluation"
      ]
    },
    {
      "cell_type": "code",
      "metadata": {
        "id": "gaST3joGyyCK",
        "colab_type": "code",
        "outputId": "08f2c1f3-5489-4baf-fa50-b597a75b2804",
        "colab": {
          "base_uri": "https://localhost:8080/",
          "height": 51
        }
      },
      "source": [
        "# load json and create model\n",
        "json_file = open('model', 'r')\n",
        "loaded_model_json = json_file.read()\n",
        "json_file.close()\n",
        "loaded_model = model_from_json(loaded_model_json)\n",
        "# load weights into new model\n",
        "loaded_model.load_weights(\"model.h5\")\n",
        "print(\"Loaded model from disk\")\n",
        " \n",
        "# evaluate loaded model on test data\n",
        "loaded_model.compile(loss='categorical_crossentropy', optimizer='adam', metrics=['accuracy'])\n",
        "score = loaded_model.evaluate(X_test, y_test, verbose=0)\n",
        "print(\"%s: %.2f%%\" % (loaded_model.metrics_names[1], score[1]*100))"
      ],
      "execution_count": 19,
      "outputs": [
        {
          "output_type": "stream",
          "text": [
            "Loaded model from disk\n",
            "accuracy: 92.67%\n"
          ],
          "name": "stdout"
        }
      ]
    },
    {
      "cell_type": "markdown",
      "metadata": {
        "id": "C43lr-20390X",
        "colab_type": "text"
      },
      "source": [
        "## 9. Prediction"
      ]
    },
    {
      "cell_type": "code",
      "metadata": {
        "id": "H6mVmtvs4Vy2",
        "colab_type": "code",
        "outputId": "8d62d2f8-c38c-4a7b-f4fe-c69ff1c4dc97",
        "colab": {
          "base_uri": "https://localhost:8080/",
          "height": 68
        }
      },
      "source": [
        "vocab_size=pipeline.named_steps['tokenizer'].vocab_size\n",
        "max_length=pipeline.named_steps['tokenizer'].max_length\n",
        "label_encoder=pipeline.named_steps['one-hot-encoder'].label_encoder\n",
        "tokenizer=pipeline.named_steps['tokenizer'].tokenizer\n",
        "max_length=pipeline.named_steps['tokenizer'].max_length\n",
        "\n",
        "\n",
        "x=['large explosion at a texas fertilizer plant...multiple injuries reported...local hospital told to expect up to 100 patients: via ap']\n",
        "\n",
        "x_seq=tokenizer.texts_to_sequences(x)[0]\n",
        "x_pad=tf.keras.preprocessing.sequence.pad_sequences([x_seq],maxlen=max_length ,padding='post')[0]\n",
        "x_pad=np.array(x_pad)\n",
        "x_pad=x_pad.reshape(1,100)\n",
        "x_pad.shape\n",
        "predict=loaded_model.predict_classes(x_pad)\n",
        "score=max(loaded_model.predict(x_pad)[0])\n",
        "print(predict)\n",
        "print(label_encoder.inverse_transform(predict))\n",
        "print('score',score)"
      ],
      "execution_count": 20,
      "outputs": [
        {
          "output_type": "stream",
          "text": [
            "[2]\n",
            "['explosion']\n",
            "score 0.99969137\n"
          ],
          "name": "stdout"
        }
      ]
    },
    {
      "cell_type": "markdown",
      "metadata": {
        "id": "gEAJgDt7g49Z",
        "colab_type": "text"
      },
      "source": [
        "## 10. Hyperparameters Optimization"
      ]
    },
    {
      "cell_type": "code",
      "metadata": {
        "id": "lzIEbJfJg6TG",
        "colab_type": "code",
        "colab": {}
      },
      "source": [
        "def create_model(dropout, dense_size, vocab_size, embedding_dim, maxlen):\n",
        "    model=Sequential()\n",
        "    model.add(Embedding(input_dim=vocab_size,output_dim=embeding_dim,input_length=max_length))\n",
        "    model.add(GlobalMaxPool1D())\n",
        "    model.add(Dropout(dropout))\n",
        "    model.add(Dense(dense_size,activation='relu'))\n",
        "    model.add(Dropout(dropout))\n",
        "    model.add(Dense(num_classes,activation='softmax'))\n",
        "    model.compile(optimizer='adam',loss='categorical_crossentropy',metrics=['accuracy'])\n",
        "    return model"
      ],
      "execution_count": 0,
      "outputs": []
    },
    {
      "cell_type": "code",
      "metadata": {
        "id": "fmj52DYihwvT",
        "colab_type": "code",
        "outputId": "c833743c-ca8d-4572-bd48-c0390cbbfcf2",
        "colab": {
          "base_uri": "https://localhost:8080/",
          "height": 224
        }
      },
      "source": [
        "  \n",
        "# Main settings\n",
        "epochs = 5\n",
        "embedding_dim = 50\n",
        "maxlen = 100\n",
        "vocab_size=10000\n",
        "output_file = 'output.txt'\n",
        "#  dropout=[.1, 0.2, 0.3,0.4,0.5],\n",
        "dense_size=[10, 50,100],\n",
        "\n",
        "# Parameter grid for grid search\n",
        "param_grid = dict(dropout=[0.1],\n",
        "                  dense_size=[10, 50,100],\n",
        "                  vocab_size=[vocab_size],\n",
        "                  embedding_dim=[embedding_dim],\n",
        "                  maxlen=[maxlen])\n",
        "model = KerasClassifier(build_fn=create_model,\n",
        "                        epochs=epochs, batch_size=10,\n",
        "                        verbose=False)\n",
        "grid = RandomizedSearchCV(estimator=model, param_distributions=param_grid,\n",
        "                          cv=4, verbose=1, n_iter=5 ,n_jobs=2)\n",
        "grid_result = grid.fit(X_train, y_train)\n",
        "\n",
        "# Evaluate testing set\n",
        "test_accuracy = grid.score(X_test, y_test)\n",
        "\n",
        "# Save and evaluate results\n",
        "with open(output_file, 'a') as f:\n",
        "    s = ('Best Accuracy : '\n",
        "         '{:.4f}\\n{}\\nTest Accuracy : {:.4f}\\n\\n')\n",
        "    output_string = s.format(\n",
        "        grid_result.best_score_,\n",
        "        grid_result.best_params_,\n",
        "        test_accuracy)\n",
        "    print(output_string)\n",
        "    f.write(output_string)  \n",
        "print('Done')    "
      ],
      "execution_count": 0,
      "outputs": [
        {
          "output_type": "stream",
          "text": [
            "Fitting 4 folds for each of 3 candidates, totalling 12 fits\n"
          ],
          "name": "stdout"
        },
        {
          "output_type": "stream",
          "text": [
            "/usr/local/lib/python3.6/dist-packages/sklearn/model_selection/_search.py:271: UserWarning: The total space of parameters 3 is smaller than n_iter=5. Running 3 iterations. For exhaustive searches, use GridSearchCV.\n",
            "  % (grid_size, self.n_iter, grid_size), UserWarning)\n",
            "[Parallel(n_jobs=2)]: Using backend LokyBackend with 2 concurrent workers.\n",
            "[Parallel(n_jobs=2)]: Done  12 out of  12 | elapsed: 12.3min finished\n"
          ],
          "name": "stderr"
        },
        {
          "output_type": "stream",
          "text": [
            "Best Accuracy : 0.9266\n",
            "{'vocab_size': 10000, 'maxlen': 100, 'embedding_dim': 50, 'dropout': 0.1, 'dense_size': 10}\n",
            "Test Accuracy : 0.9308\n",
            "\n",
            "\n",
            "Done\n"
          ],
          "name": "stdout"
        }
      ]
    },
    {
      "cell_type": "markdown",
      "metadata": {
        "id": "W02P5TXJ37YG",
        "colab_type": "text"
      },
      "source": [
        ""
      ]
    }
  ]
}