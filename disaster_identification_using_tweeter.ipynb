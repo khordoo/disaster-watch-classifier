{
 "cells": [
  {
   "cell_type": "markdown",
   "metadata": {},
   "source": [
    "# Identifying and categorizing the disaster-related tweets\n",
    "Semantic, temporal and spatial context , using natural language processing ,Deep Learning and spatial analysis\n",
    "\n",
    "\n",
    "## 1. Import Required Packages"
   ]
  },
  {
   "cell_type": "code",
   "execution_count": 500,
   "metadata": {},
   "outputs": [],
   "source": [
    "%%capture\n",
    "%matplotlib inline\n",
    "\n",
    "import os\n",
    "import numpy as np\n",
    "import pandas as pd\n",
    "import matplotlib.pyplot as plt\n",
    "from sklearn.base import TransformerMixin ,BaseEstimator\n",
    "from sklearn.pipeline import Pipeline\n",
    "from sklearn.preprocessing import LabelEncoder\n",
    "from sklearn.model_selection import train_test_split\n",
    "from tensorflow.keras.utils import to_categorical\n",
    "from tensorflow.keras.models import Sequential ,model_from_json\n",
    "from tensorflow.keras.layers import Embedding,Dense,Dropout ,GlobalMaxPool1D\n",
    "from IPython.display import clear_output"
   ]
  },
  {
   "cell_type": "markdown",
   "metadata": {},
   "source": [
    "## 2. Data Loading\n",
    "\n"
   ]
  },
  {
   "cell_type": "code",
   "execution_count": 473,
   "metadata": {},
   "outputs": [],
   "source": [
    "\n",
    "class DatasetExtractor(BaseEstimator,TransformerMixin):\n",
    "    \"\"\"Extractor class that loads multiple Tweeter files in csv format.\"\"\"\n",
    "    \n",
    "    COMBINDED_DATASET='combined.csv'\n",
    "    DATA_DIRECTORY='../datasets'\n",
    "    \n",
    "    def transform(self,X,y=None):\n",
    "        return hot_load()\n",
    "    \n",
    "    def hot_load():\n",
    "        \"\"\"Loads the pre-combined file if exists otherwise load all the files\"\"\"\n",
    "        combined_file_path=f'{DATA_DIRECTORY}/{COMBINDED_DATASET}'\n",
    "        if os.path.isfile(combined_file_path):\n",
    "            print('File Exists.Reloaded.')\n",
    "            return pd.read_csv(combined_file_path, index_col=0)\n",
    "        print('Loading Files..')\n",
    "        combined_dataset=load_data()\n",
    "        combined_dataset.to_csv(combined_file_path)\n",
    "        return combined_dataset\n",
    "    \n",
    "    def load_data():\n",
    "        \"\"\"Loads multiple disaster related tweet file and returns a Single Pandas data frame\"\"\"    \n",
    "        combined_dataset=pd.DataFrame()\n",
    "        for file_name in os.listdir(path=DATA_DIRECTORY):\n",
    "            category=extract_category_name(file_name)\n",
    "            df=pd.read_csv(f'{DATA_DIRECTORY}/{file_name}')\n",
    "            df['category']= category    \n",
    "            combined_dataset=combined_dataset.append(df,ignore_index = True)\n",
    "        return  combined_dataset  \n",
    "    \n",
    "    def extract_category_name(file_name):\n",
    "        \"\"\"Helper method that extracts the Disaster Category from the file name\"\"\"\n",
    "        category=file_name.split('.')[0]\n",
    "        if '_' in category:\n",
    "            category=category.split('_')[0]\n",
    "        return category "
   ]
  },
  {
   "cell_type": "markdown",
   "metadata": {},
   "source": [
    "## 3. Data Cleaning"
   ]
  },
  {
   "cell_type": "code",
   "execution_count": 474,
   "metadata": {},
   "outputs": [],
   "source": [
    "class DatasetCleaner(BaseEstimator,TransformerMixin):\n",
    "    \"\"\"Removes Redundent features and rows with missing values\"\"\"\n",
    "    def transform(self,X,y=None):\n",
    "        columns=X.columns.tolist()\n",
    "        X.columns=[column.strip() for column in columns]\n",
    "        X=X.drop('tweet id',axis=1)\n",
    "        X=X.dropna()\n",
    "        X['tweet']=X['tweet'].str.replace('@', '')\n",
    "        X['tweet']=X['tweet'].str.replace('#', '')\n",
    "        X['tweet']=X['tweet'].str.replace('http\\S+', '',regex=True)\n",
    "        X['tweet']=X['tweet'].str.strip()\n",
    "        X['tweet']=X['tweet'].str.lower()\n",
    "        return X"
   ]
  },
  {
   "cell_type": "code",
   "execution_count": 475,
   "metadata": {},
   "outputs": [],
   "source": [
    "class DistributionValidSampler(BaseEstimator,TransformerMixin):\n",
    "    \"\"\"Samples the (related and random ) tweets with equal proportion\"\"\"\n",
    "    def __init__(self,unrelated_size=None ,ignore_unrelated_proportion=True):\n",
    "        self._unrelated_size=unrelated_size\n",
    "        self._ignore_unrelated_proportion=ignore_unrelated_proportion\n",
    "\n",
    "        \n",
    "    def transform(self,X,y=None):\n",
    "        #Shuffle tweets\n",
    "        X_=X.sample(frac=1).reset_index(drop=True)\n",
    "        \n",
    "        X_=self._label_categories(X_)  \n",
    "        related,unrelated =self._equal_split(X_)\n",
    "        X_=self._merge(related,unrelated)\n",
    "        X_=X_.drop('category',axis=1)       \n",
    "        return X_\n",
    "    \n",
    "    def _label_categories(self,X):\n",
    "        \"\"\"Assings the category name to on-topic tweets and unrelated to off-topic tweets in \n",
    "         each category\n",
    "        \"\"\"\n",
    "        \n",
    "        if self._ignore_unrelated_proportion:\n",
    "            X['label']=X.apply(lambda row: row['category'] if 'on-topic' in row['label'] else 'unrelated',axis=1 ) \n",
    "        else:\n",
    "            X['label']=X.apply(lambda row: row['category'] if 'on-topic' in row['label'] else 'unrelated_'+row['category'],axis=1 )  \n",
    "        return X\n",
    "    \n",
    "    def _equal_split(self,X):\n",
    "        \"\"\"Splits the dataseta into related and unrelated tweets.\n",
    "          This ensures that the number of unrelated tweets are not too high and \n",
    "          is in reasonable range.\n",
    "        \"\"\"\n",
    "        related=X[X['label'].str.contains('unrelated')==False]\n",
    "        unrelated=X[X['label'].str.contains('unrelated')]\n",
    "        ave_tweets=self._average_tweet_per_category(X)\n",
    "        unrelated=self._slice(unrelated,size=self._unrelated_size ,ave_size=ave_tweets)\n",
    "        return related,unrelated\n",
    "    \n",
    "    def _merge(self,X1,X2):\n",
    "        \"\"\"Merges the dataframes toghether\"\"\"\n",
    "        X=pd.DataFrame()\n",
    "        X=X.append(X1)\n",
    "        X=X.append(X2)\n",
    "        return X\n",
    "    \n",
    "    def _slice(self,X, size ,ave_size):\n",
    "        \"\"\"Extracts a subset of rows from a dataframe\"\"\"\n",
    "        if size is None:\n",
    "            size =ave_size\n",
    "        if size < X.shape[0]:\n",
    "            return X[:size]\n",
    "        return X    \n",
    "    \n",
    "    def _average_tweet_per_category(self,X):\n",
    "        \"\"\"Calculate the average number of tweets across all tweet categories\"\"\"\n",
    "        category_values=pd.DataFrame(X['label'].value_counts())\n",
    "        category_values=category_values.drop('unrelated',axis=0)\n",
    "        return int(category_values['label'].mean())\n",
    "        "
   ]
  },
  {
   "cell_type": "markdown",
   "metadata": {},
   "source": [
    "### 4. Data Transformation"
   ]
  },
  {
   "cell_type": "code",
   "execution_count": 476,
   "metadata": {},
   "outputs": [],
   "source": [
    "class TextTokenizer(BaseEstimator,TransformerMixin):\n",
    "    \n",
    "    def __init__(self,pad_sequences,num_words=10000,max_length=100,max_pad_length=100 ):\n",
    "        self._num_words=num_words\n",
    "        self.max_length=max_length\n",
    "        self._tokenizer=tokenizer\n",
    "        self._pad_sequences=pad_sequences\n",
    "        self._max_pad_length=max_pad_length\n",
    "        self.vocab_size=None\n",
    "        self.tokenizer=None\n",
    "        \n",
    "    def transform(self,X,y=None):\n",
    "        self.tokenizer,self.vocab_size=self._get_tokenizer(X['tweet'])\n",
    "        X['tweet_encoded']=self.tokenizer.texts_to_sequences(X['tweet'])\n",
    "        X['tweet_encoded']= X['tweet_encoded'].apply(lambda x: self._pad_sequences([x],maxlen=self._max_pad_length ,padding='post')[0])\n",
    "        \n",
    "        return X\n",
    "    def _get_tokenizer(self,X):\n",
    "        tokenizer=keras.preprocessing.text.Tokenizer(num_words=self._num_words)\n",
    "        tokenizer.fit_on_texts(X)\n",
    "        vocab_size=len(tokenizer.word_index)+1\n",
    "        return tokenizer,vocab_size"
   ]
  },
  {
   "cell_type": "code",
   "execution_count": 477,
   "metadata": {},
   "outputs": [],
   "source": [
    "class LabelOneHotEncoder(BaseEstimator,TransformerMixin):\n",
    "    def __init__(self):\n",
    "        self.label_encoder=None\n",
    "        self.one_hot_encoder=None\n",
    "        \n",
    "    def transform(self,X,y=None):\n",
    "        self.label_encoder=LabelEncoder().fit(X['label'])\n",
    "        self.one_hot_encoder=to_categorical\n",
    "        num_classes=len(set(X['label']))\n",
    "        X['label_encoded']=encoder.transform(result['label'].values)\n",
    "        X['label_one_hot']= X['label_encoded'].apply(lambda x: self.one_hot_encoder([x],num_classes=num_classes)[0])   \n",
    "        \n",
    "        return X\n",
    "      "
   ]
  },
  {
   "cell_type": "code",
   "execution_count": 478,
   "metadata": {},
   "outputs": [],
   "source": [
    "class PassThroughTransformer(BaseEstimator,TransformerMixin):\n",
    "    \"\"\"Pass Through Trasformer to by pass the sklean pipleline limitation \"\"\"\n",
    "    def transform(self,X,y=None):\n",
    "        return X\n",
    "    def fit(self,X,y=None):\n",
    "        return X"
   ]
  },
  {
   "cell_type": "code",
   "execution_count": 479,
   "metadata": {
    "scrolled": true
   },
   "outputs": [
    {
     "name": "stdout",
     "output_type": "stream",
     "text": [
      "File Exists.Reloaded.\n"
     ]
    },
    {
     "data": {
      "text/html": [
       "<div>\n",
       "<style scoped>\n",
       "    .dataframe tbody tr th:only-of-type {\n",
       "        vertical-align: middle;\n",
       "    }\n",
       "\n",
       "    .dataframe tbody tr th {\n",
       "        vertical-align: top;\n",
       "    }\n",
       "\n",
       "    .dataframe thead th {\n",
       "        text-align: right;\n",
       "    }\n",
       "</style>\n",
       "<table border=\"1\" class=\"dataframe\">\n",
       "  <thead>\n",
       "    <tr style=\"text-align: right;\">\n",
       "      <th></th>\n",
       "      <th>tweet</th>\n",
       "      <th>label</th>\n",
       "      <th>tweet_encoded</th>\n",
       "      <th>label_encoded</th>\n",
       "      <th>label_one_hot</th>\n",
       "    </tr>\n",
       "  </thead>\n",
       "  <tbody>\n",
       "    <tr>\n",
       "      <th>0</th>\n",
       "      <td>rt bigfrankenstorm: r.i.p to the 65 victims wh...</td>\n",
       "      <td>hurricane</td>\n",
       "      <td>[2, 1708, 268, 11, 314, 4, 1, 1291, 48, 66, 21...</td>\n",
       "      <td>2</td>\n",
       "      <td>[0.0, 0.0, 1.0, 0.0, 0.0, 0.0, 0.0]</td>\n",
       "    </tr>\n",
       "    <tr>\n",
       "      <th>3</th>\n",
       "      <td>rt if yu think tha storm not gone cum</td>\n",
       "      <td>hurricane</td>\n",
       "      <td>[2, 64, 5484, 251, 3248, 232, 65, 787, 9208, 0...</td>\n",
       "      <td>0</td>\n",
       "      <td>[1.0, 0.0, 0.0, 0.0, 0.0, 0.0, 0.0]</td>\n",
       "    </tr>\n",
       "    <tr>\n",
       "      <th>5</th>\n",
       "      <td>queensland has faced worse flood disasters and...</td>\n",
       "      <td>floods</td>\n",
       "      <td>[30, 59, 2011, 802, 9, 850, 7, 1751, 287, 36, ...</td>\n",
       "      <td>3</td>\n",
       "      <td>[0.0, 0.0, 0.0, 1.0, 0.0, 0.0, 0.0]</td>\n",
       "    </tr>\n",
       "    <tr>\n",
       "      <th>6</th>\n",
       "      <td>so far this week\\- prayfortexas \\- prayforbost...</td>\n",
       "      <td>bombing</td>\n",
       "      <td>[42, 373, 16, 222, 348, 92, 112, 471, 209, 119...</td>\n",
       "      <td>2</td>\n",
       "      <td>[0.0, 0.0, 1.0, 0.0, 0.0, 0.0, 0.0]</td>\n",
       "    </tr>\n",
       "    <tr>\n",
       "      <th>8</th>\n",
       "      <td>crazy lightning or transformers exploding in n...</td>\n",
       "      <td>hurricane</td>\n",
       "      <td>[326, 6054, 97, 5033, 4678, 3, 463, 1253, 21, ...</td>\n",
       "      <td>4</td>\n",
       "      <td>[0.0, 0.0, 0.0, 0.0, 1.0, 0.0, 0.0]</td>\n",
       "    </tr>\n",
       "  </tbody>\n",
       "</table>\n",
       "</div>"
      ],
      "text/plain": [
       "                                               tweet      label  \\\n",
       "0  rt bigfrankenstorm: r.i.p to the 65 victims wh...  hurricane   \n",
       "3              rt if yu think tha storm not gone cum  hurricane   \n",
       "5  queensland has faced worse flood disasters and...     floods   \n",
       "6  so far this week\\- prayfortexas \\- prayforbost...    bombing   \n",
       "8  crazy lightning or transformers exploding in n...  hurricane   \n",
       "\n",
       "                                       tweet_encoded  label_encoded  \\\n",
       "0  [2, 1708, 268, 11, 314, 4, 1, 1291, 48, 66, 21...              2   \n",
       "3  [2, 64, 5484, 251, 3248, 232, 65, 787, 9208, 0...              0   \n",
       "5  [30, 59, 2011, 802, 9, 850, 7, 1751, 287, 36, ...              3   \n",
       "6  [42, 373, 16, 222, 348, 92, 112, 471, 209, 119...              2   \n",
       "8  [326, 6054, 97, 5033, 4678, 3, 463, 1253, 21, ...              4   \n",
       "\n",
       "                         label_one_hot  \n",
       "0  [0.0, 0.0, 1.0, 0.0, 0.0, 0.0, 0.0]  \n",
       "3  [1.0, 0.0, 0.0, 0.0, 0.0, 0.0, 0.0]  \n",
       "5  [0.0, 0.0, 0.0, 1.0, 0.0, 0.0, 0.0]  \n",
       "6  [0.0, 0.0, 1.0, 0.0, 0.0, 0.0, 0.0]  \n",
       "8  [0.0, 0.0, 0.0, 0.0, 1.0, 0.0, 0.0]  "
      ]
     },
     "execution_count": 479,
     "metadata": {},
     "output_type": "execute_result"
    }
   ],
   "source": [
    "pad_sequence=tensorflow.keras.preprocessing.sequence.pad_sequences\n",
    "\n",
    "pipeline =Pipeline(steps=[\n",
    "    ('extractor',DatasetExtractor()),\n",
    "    ('cleaner',DatasetCleaner()),\n",
    "    ('distribution-validator',DistributionValidSampler(unrelated_size=None ,ignore_unrelated_proportion=True)),\n",
    "    ('tokenizer',TextTokenizer(pad_sequence)),\n",
    "    ('one-hot-encoder',LabelOneHotEncoder()),\n",
    "    ('pass-through',PassThroughTransformer()),\n",
    "    \n",
    "])\n",
    "cleaned=pipeline.transform(None)\n",
    "cleaned.head()"
   ]
  },
  {
   "cell_type": "markdown",
   "metadata": {},
   "source": [
    "## 5. Train Validation set"
   ]
  },
  {
   "cell_type": "code",
   "execution_count": 488,
   "metadata": {},
   "outputs": [],
   "source": [
    "X_train,X_test,y_train,y_test =train_test_split(cleaned['tweet_encoded'],cleaned['label_one_hot'],test_size=0.3,stratify=cleaned['label_encoded'])\n",
    "X_train=np.array(X_train.values.tolist())\n",
    "X_test=np.array(X_test.values.tolist())\n",
    "y_train=np.array(y_train.values.tolist())\n",
    "y_test=np.array(y_test.values.tolist())"
   ]
  },
  {
   "cell_type": "markdown",
   "metadata": {},
   "source": [
    "## 6. Modeling "
   ]
  },
  {
   "cell_type": "code",
   "execution_count": 498,
   "metadata": {},
   "outputs": [],
   "source": [
    "class PlotLosses(tensorflow.keras.callbacks.Callback):\n",
    "    def on_train_begin(self, logs={}):\n",
    "        self.i = 0\n",
    "        self.x = []\n",
    "        self.losses = []\n",
    "        self.val_losses = []\n",
    "        \n",
    "        self.fig = plt.figure()\n",
    "        \n",
    "        self.logs = []\n",
    "\n",
    "    def on_epoch_end(self, epoch, logs={}):\n",
    "        \n",
    "        self.logs.append(logs)\n",
    "        self.x.append(self.i)\n",
    "        self.losses.append(logs.get('loss'))\n",
    "        self.val_losses.append(logs.get('val_loss'))\n",
    "        self.i += 1\n",
    "        \n",
    "        clear_output(wait=True)\n",
    "        plt.plot(self.x, self.losses, label=\"loss\")\n",
    "        plt.plot(self.x, self.val_losses, label=\"val_loss\")\n",
    "        plt.legend()\n",
    "        print('Loss=',logs.get('loss'),'val_loss=',logs.get('val_loss'),'acc=',logs.get('acc'),'val_acc=',logs.get('val_acc'))\n",
    "        plt.show();\n",
    "plot_losses = PlotLosses() \n",
    "\n",
    "def save_model(model,save_name):\n",
    "    with open(save_name,'w+') as f:\n",
    "        f.write(model.to_json())\n",
    "    model.save_weights(save_name+'.h5') "
   ]
  },
  {
   "cell_type": "code",
   "execution_count": 484,
   "metadata": {},
   "outputs": [
    {
     "name": "stdout",
     "output_type": "stream",
     "text": [
      "Model: \"sequential_14\"\n",
      "_________________________________________________________________\n",
      "Layer (type)                 Output Shape              Param #   \n",
      "=================================================================\n",
      "embedding_11 (Embedding)     (None, 100, 50)           2295750   \n",
      "_________________________________________________________________\n",
      "global_max_pooling1d_11 (Glo (None, 50)                0         \n",
      "_________________________________________________________________\n",
      "dropout_22 (Dropout)         (None, 50)                0         \n",
      "_________________________________________________________________\n",
      "dense_22 (Dense)             (None, 10)                510       \n",
      "_________________________________________________________________\n",
      "dropout_23 (Dropout)         (None, 10)                0         \n",
      "_________________________________________________________________\n",
      "dense_23 (Dense)             (None, 7)                 77        \n",
      "=================================================================\n",
      "Total params: 2,296,337\n",
      "Trainable params: 2,296,337\n",
      "Non-trainable params: 0\n",
      "_________________________________________________________________\n"
     ]
    }
   ],
   "source": [
    "tokenizer=pipeline.named_steps['tokenizer']\n",
    "embeding_dim=50\n",
    "model=Sequential()\n",
    "model.add(Embedding(input_dim=tokenizer.vocab_size,output_dim=embeding_dim,input_length=tokenizer.max_length))\n",
    "model.add(GlobalMaxPool1D())\n",
    "model.add(Dropout(0.2))\n",
    "model.add(Dense(10,activation='relu'))\n",
    "model.add(Dropout(0.2))\n",
    "model.add(Dense(num_classes,activation='softmax'))\n",
    "model.compile(optimizer='adam',loss='categorical_crossentropy',metrics=['accuracy'])\n",
    "model.summary()"
   ]
  },
  {
   "cell_type": "markdown",
   "metadata": {},
   "source": [
    "## 7. Training "
   ]
  },
  {
   "cell_type": "code",
   "execution_count": 501,
   "metadata": {
    "scrolled": true
   },
   "outputs": [
    {
     "name": "stdout",
     "output_type": "stream",
     "text": [
      "Loss= 1.6319252874634482 val_loss= 1.6534959078294817 acc= None val_acc= None\n"
     ]
    },
    {
     "data": {
      "image/png": "[encoded data removed]",
      "text/plain": [
       "<Figure size 432x288 with 1 Axes>"
      ]
     },
     "metadata": {
      "needs_background": "light"
     },
     "output_type": "display_data"
    }
   ],
   "source": [
    "model.fit(X_train,y_train,epochs=2,batch_size=10,verbose=0,validation_data=(X_test,y_test),callbacks=[plot_losses])\n",
    "save_model(model,'model')"
   ]
  },
  {
   "cell_type": "markdown",
   "metadata": {},
   "source": [
    "## 8. Evaluation"
   ]
  },
  {
   "cell_type": "code",
   "execution_count": 503,
   "metadata": {},
   "outputs": [
    {
     "name": "stdout",
     "output_type": "stream",
     "text": [
      "12965/12965 [==============================] - 1s 45us/sample - loss: 1.6535 - accuracy: 0.3501\n",
      "Test score: 1.6534959055491962\n",
      "Test accuracy: 0.3500964\n"
     ]
    }
   ],
   "source": [
    "score ,acc= model.evaluate(X_test,y_test)\n",
    "print('Test score:', score)\n",
    "print('Test accuracy:', acc)"
   ]
  },
  {
   "cell_type": "code",
   "execution_count": null,
   "metadata": {},
   "outputs": [],
   "source": []
  }
 ],
 "metadata": {
  "kernelspec": {
   "display_name": "Python 3",
   "language": "python",
   "name": "python3"
  },
  "language_info": {
   "codemirror_mode": {
    "name": "ipython",
    "version": 3
   },
   "file_extension": ".py",
   "mimetype": "text/x-python",
   "name": "python",
   "nbconvert_exporter": "python",
   "pygments_lexer": "ipython3",
   "version": "3.6.7"
  }
 },
 "nbformat": 4,
 "nbformat_minor": 2
}
